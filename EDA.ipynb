{
 "cells": [
  {
   "cell_type": "code",
   "execution_count": 1,
   "metadata": {},
   "outputs": [],
   "source": [
    "import pandas as pd"
   ]
  },
  {
   "cell_type": "code",
   "execution_count": 2,
   "metadata": {},
   "outputs": [],
   "source": [
    "# sampled = pd.DataFrame()\n",
    "\n",
    "# chunksize = 10 ** 6\n",
    "# for chunk in pd.read_csv(\"user_data.csv\", chunksize=chunksize):\n",
    "#     sampled = sampled.append(chunk.sample(frac=0.1), ignore_index=True)\n"
   ]
  },
  {
   "cell_type": "code",
   "execution_count": 3,
   "metadata": {},
   "outputs": [],
   "source": [
    "# sampled.columns"
   ]
  },
  {
   "cell_type": "code",
   "execution_count": 4,
   "metadata": {},
   "outputs": [],
   "source": [
    "# sampled_v1 = pd.DataFrame(sampled, columns=sampled.columns)"
   ]
  },
  {
   "cell_type": "code",
   "execution_count": 5,
   "metadata": {},
   "outputs": [],
   "source": [
    "# sampled_v1.columns"
   ]
  },
  {
   "cell_type": "code",
   "execution_count": 6,
   "metadata": {},
   "outputs": [],
   "source": [
    "# sampled_v1 = sampled_v1.rename(index=str, columns={\"Unnamed: 0\": \"index\", \"Unnamed: 8\": \"no_gen\"})"
   ]
  },
  {
   "cell_type": "code",
   "execution_count": 7,
   "metadata": {},
   "outputs": [],
   "source": [
    "sampled = pd.read_csv(\"sampled.csv\")"
   ]
  },
  {
   "cell_type": "code",
   "execution_count": 8,
   "metadata": {},
   "outputs": [
    {
     "data": {
      "text/html": [
       "<div>\n",
       "<style scoped>\n",
       "    .dataframe tbody tr th:only-of-type {\n",
       "        vertical-align: middle;\n",
       "    }\n",
       "\n",
       "    .dataframe tbody tr th {\n",
       "        vertical-align: top;\n",
       "    }\n",
       "\n",
       "    .dataframe thead th {\n",
       "        text-align: right;\n",
       "    }\n",
       "</style>\n",
       "<table border=\"1\" class=\"dataframe\">\n",
       "  <thead>\n",
       "    <tr style=\"text-align: right;\">\n",
       "      <th></th>\n",
       "      <th>Unnamed: 0</th>\n",
       "      <th>index</th>\n",
       "      <th>msno</th>\n",
       "      <th>city</th>\n",
       "      <th>age</th>\n",
       "      <th>registered_via</th>\n",
       "      <th>registration_init_time</th>\n",
       "      <th>female</th>\n",
       "      <th>male</th>\n",
       "      <th>no_gen</th>\n",
       "      <th>date</th>\n",
       "      <th>num_25</th>\n",
       "      <th>num_50</th>\n",
       "      <th>num_75</th>\n",
       "      <th>num_985</th>\n",
       "      <th>num_100</th>\n",
       "      <th>num_unq</th>\n",
       "      <th>total_secs</th>\n",
       "    </tr>\n",
       "  </thead>\n",
       "  <tbody>\n",
       "    <tr>\n",
       "      <th>0</th>\n",
       "      <td>0</td>\n",
       "      <td>263487</td>\n",
       "      <td>F4dToClKeuYk+KkcOgjT3KYh8Ts1s66/X0FlY++Pk7M=</td>\n",
       "      <td>15</td>\n",
       "      <td>17</td>\n",
       "      <td>9</td>\n",
       "      <td>20090423</td>\n",
       "      <td>1</td>\n",
       "      <td>0</td>\n",
       "      <td>0</td>\n",
       "      <td>20150619</td>\n",
       "      <td>1</td>\n",
       "      <td>1</td>\n",
       "      <td>1</td>\n",
       "      <td>0</td>\n",
       "      <td>8</td>\n",
       "      <td>8</td>\n",
       "      <td>2005.518</td>\n",
       "    </tr>\n",
       "    <tr>\n",
       "      <th>1</th>\n",
       "      <td>1</td>\n",
       "      <td>317683</td>\n",
       "      <td>CtuL6W2EvT51G/R00rj0D0jZYe/nO1RtIGdpN5QCna4=</td>\n",
       "      <td>5</td>\n",
       "      <td>22</td>\n",
       "      <td>3</td>\n",
       "      <td>20141128</td>\n",
       "      <td>0</td>\n",
       "      <td>1</td>\n",
       "      <td>0</td>\n",
       "      <td>20170110</td>\n",
       "      <td>0</td>\n",
       "      <td>0</td>\n",
       "      <td>1</td>\n",
       "      <td>0</td>\n",
       "      <td>69</td>\n",
       "      <td>5</td>\n",
       "      <td>15635.115</td>\n",
       "    </tr>\n",
       "    <tr>\n",
       "      <th>2</th>\n",
       "      <td>2</td>\n",
       "      <td>675389</td>\n",
       "      <td>2nvgOURSk21T1xr0hFP0JPx3fmW1wod5YuOeLjfe88I=</td>\n",
       "      <td>1</td>\n",
       "      <td>0</td>\n",
       "      <td>7</td>\n",
       "      <td>20120513</td>\n",
       "      <td>0</td>\n",
       "      <td>0</td>\n",
       "      <td>1</td>\n",
       "      <td>20151128</td>\n",
       "      <td>3</td>\n",
       "      <td>0</td>\n",
       "      <td>0</td>\n",
       "      <td>2</td>\n",
       "      <td>78</td>\n",
       "      <td>47</td>\n",
       "      <td>15529.220</td>\n",
       "    </tr>\n",
       "    <tr>\n",
       "      <th>3</th>\n",
       "      <td>3</td>\n",
       "      <td>930974</td>\n",
       "      <td>NrqcncdcFL/HT6OM5LXlRPWFlCtGXYmHmOKZudPviow=</td>\n",
       "      <td>22</td>\n",
       "      <td>47</td>\n",
       "      <td>9</td>\n",
       "      <td>20080303</td>\n",
       "      <td>1</td>\n",
       "      <td>0</td>\n",
       "      <td>0</td>\n",
       "      <td>20160212</td>\n",
       "      <td>0</td>\n",
       "      <td>0</td>\n",
       "      <td>0</td>\n",
       "      <td>0</td>\n",
       "      <td>8</td>\n",
       "      <td>8</td>\n",
       "      <td>1750.133</td>\n",
       "    </tr>\n",
       "    <tr>\n",
       "      <th>4</th>\n",
       "      <td>4</td>\n",
       "      <td>173773</td>\n",
       "      <td>yGWUDtiplVnnGtPExNxY6XQ07m9x+d2+jGwJ7lwWA8w=</td>\n",
       "      <td>22</td>\n",
       "      <td>27</td>\n",
       "      <td>9</td>\n",
       "      <td>20120128</td>\n",
       "      <td>0</td>\n",
       "      <td>1</td>\n",
       "      <td>0</td>\n",
       "      <td>20160608</td>\n",
       "      <td>2</td>\n",
       "      <td>0</td>\n",
       "      <td>1</td>\n",
       "      <td>1</td>\n",
       "      <td>10</td>\n",
       "      <td>2</td>\n",
       "      <td>3261.200</td>\n",
       "    </tr>\n",
       "  </tbody>\n",
       "</table>\n",
       "</div>"
      ],
      "text/plain": [
       "   Unnamed: 0   index                                          msno  city  \\\n",
       "0           0  263487  F4dToClKeuYk+KkcOgjT3KYh8Ts1s66/X0FlY++Pk7M=    15   \n",
       "1           1  317683  CtuL6W2EvT51G/R00rj0D0jZYe/nO1RtIGdpN5QCna4=     5   \n",
       "2           2  675389  2nvgOURSk21T1xr0hFP0JPx3fmW1wod5YuOeLjfe88I=     1   \n",
       "3           3  930974  NrqcncdcFL/HT6OM5LXlRPWFlCtGXYmHmOKZudPviow=    22   \n",
       "4           4  173773  yGWUDtiplVnnGtPExNxY6XQ07m9x+d2+jGwJ7lwWA8w=    22   \n",
       "\n",
       "   age  registered_via  registration_init_time  female  male  no_gen  \\\n",
       "0   17               9                20090423       1     0       0   \n",
       "1   22               3                20141128       0     1       0   \n",
       "2    0               7                20120513       0     0       1   \n",
       "3   47               9                20080303       1     0       0   \n",
       "4   27               9                20120128       0     1       0   \n",
       "\n",
       "       date  num_25  num_50  num_75  num_985  num_100  num_unq  total_secs  \n",
       "0  20150619       1       1       1        0        8        8    2005.518  \n",
       "1  20170110       0       0       1        0       69        5   15635.115  \n",
       "2  20151128       3       0       0        2       78       47   15529.220  \n",
       "3  20160212       0       0       0        0        8        8    1750.133  \n",
       "4  20160608       2       0       1        1       10        2    3261.200  "
      ]
     },
     "execution_count": 8,
     "metadata": {},
     "output_type": "execute_result"
    }
   ],
   "source": [
    "sampled.head()"
   ]
  },
  {
   "cell_type": "code",
   "execution_count": 9,
   "metadata": {},
   "outputs": [],
   "source": [
    "import numpy as np"
   ]
  },
  {
   "cell_type": "code",
   "execution_count": 10,
   "metadata": {},
   "outputs": [],
   "source": [
    "cols = ['age', 'registered_via', 'registration_init_time',\n",
    "              'female', 'male', 'num_25', 'num_50', 'num_75', 'num_985',\n",
    "              'num_100', 'num_unq', 'total_secs']"
   ]
  },
  {
   "cell_type": "code",
   "execution_count": 11,
   "metadata": {},
   "outputs": [],
   "source": [
    "from sklearn.preprocessing import StandardScaler"
   ]
  },
  {
   "cell_type": "code",
   "execution_count": 12,
   "metadata": {},
   "outputs": [
    {
     "data": {
      "text/plain": [
       "(39029258, 13)"
      ]
     },
     "execution_count": 12,
     "metadata": {},
     "output_type": "execute_result"
    }
   ],
   "source": [
    "sampled[cols].shape"
   ]
  },
  {
   "cell_type": "code",
   "execution_count": 19,
   "metadata": {},
   "outputs": [
    {
     "name": "stderr",
     "output_type": "stream",
     "text": [
      "/usr/local/lib/python3.7/site-packages/sklearn/preprocessing/data.py:617: DataConversionWarning: Data with input dtype int64, float64 were all converted to float64 by StandardScaler.\n",
      "  return self.partial_fit(X, y)\n"
     ]
    },
    {
     "data": {
      "text/plain": [
       "StandardScaler(copy=True, with_mean=True, with_std=True)"
      ]
     },
     "execution_count": 19,
     "metadata": {},
     "output_type": "execute_result"
    }
   ],
   "source": [
    "ss = StandardScaler()\n",
    "aa = sampled[cols].sample(frac=0.1)\n",
    "ss.fit(aa)"
   ]
  },
  {
   "cell_type": "code",
   "execution_count": 20,
   "metadata": {},
   "outputs": [
    {
     "name": "stderr",
     "output_type": "stream",
     "text": [
      "/usr/local/lib/python3.7/site-packages/ipykernel_launcher.py:1: DataConversionWarning: Data with input dtype int64, float64 were all converted to float64 by StandardScaler.\n",
      "  \"\"\"Entry point for launching an IPython kernel.\n"
     ]
    }
   ],
   "source": [
    "scaled_sample = ss.transform(aa)"
   ]
  },
  {
   "cell_type": "code",
   "execution_count": 27,
   "metadata": {},
   "outputs": [
    {
     "data": {
      "text/html": [
       "<div>\n",
       "<style scoped>\n",
       "    .dataframe tbody tr th:only-of-type {\n",
       "        vertical-align: middle;\n",
       "    }\n",
       "\n",
       "    .dataframe tbody tr th {\n",
       "        vertical-align: top;\n",
       "    }\n",
       "\n",
       "    .dataframe thead th {\n",
       "        text-align: right;\n",
       "    }\n",
       "</style>\n",
       "<table border=\"1\" class=\"dataframe\">\n",
       "  <thead>\n",
       "    <tr style=\"text-align: right;\">\n",
       "      <th></th>\n",
       "      <th>0</th>\n",
       "      <th>1</th>\n",
       "      <th>2</th>\n",
       "      <th>3</th>\n",
       "      <th>4</th>\n",
       "      <th>5</th>\n",
       "      <th>6</th>\n",
       "      <th>7</th>\n",
       "      <th>8</th>\n",
       "      <th>9</th>\n",
       "      <th>10</th>\n",
       "      <th>11</th>\n",
       "      <th>12</th>\n",
       "    </tr>\n",
       "  </thead>\n",
       "  <tbody>\n",
       "    <tr>\n",
       "      <th>0</th>\n",
       "      <td>-1.062323</td>\n",
       "      <td>-0.875372</td>\n",
       "      <td>0.028668</td>\n",
       "      <td>0.244820</td>\n",
       "      <td>-0.666613</td>\n",
       "      <td>-0.712716</td>\n",
       "      <td>-0.460536</td>\n",
       "      <td>-0.154109</td>\n",
       "      <td>-0.473358</td>\n",
       "      <td>-0.384797</td>\n",
       "      <td>-0.658845</td>\n",
       "      <td>-0.773495</td>\n",
       "      <td>0.012451</td>\n",
       "    </tr>\n",
       "    <tr>\n",
       "      <th>1</th>\n",
       "      <td>2.118522</td>\n",
       "      <td>0.361559</td>\n",
       "      <td>-1.710260</td>\n",
       "      <td>0.574193</td>\n",
       "      <td>-0.666613</td>\n",
       "      <td>1.403083</td>\n",
       "      <td>0.598368</td>\n",
       "      <td>0.086307</td>\n",
       "      <td>-0.008964</td>\n",
       "      <td>-0.045372</td>\n",
       "      <td>0.100603</td>\n",
       "      <td>0.647867</td>\n",
       "      <td>0.012451</td>\n",
       "    </tr>\n",
       "    <tr>\n",
       "      <th>2</th>\n",
       "      <td>-1.062323</td>\n",
       "      <td>-0.875372</td>\n",
       "      <td>0.028668</td>\n",
       "      <td>0.265636</td>\n",
       "      <td>-0.666613</td>\n",
       "      <td>-0.712716</td>\n",
       "      <td>-0.248755</td>\n",
       "      <td>-0.154109</td>\n",
       "      <td>-0.473358</td>\n",
       "      <td>-0.384797</td>\n",
       "      <td>-0.468983</td>\n",
       "      <td>-0.477378</td>\n",
       "      <td>0.012451</td>\n",
       "    </tr>\n",
       "    <tr>\n",
       "      <th>3</th>\n",
       "      <td>-1.062323</td>\n",
       "      <td>-0.875372</td>\n",
       "      <td>0.028668</td>\n",
       "      <td>0.228804</td>\n",
       "      <td>-0.666613</td>\n",
       "      <td>-0.712716</td>\n",
       "      <td>-0.389942</td>\n",
       "      <td>-0.394525</td>\n",
       "      <td>-0.008964</td>\n",
       "      <td>-0.384797</td>\n",
       "      <td>-0.540181</td>\n",
       "      <td>-0.595825</td>\n",
       "      <td>0.012451</td>\n",
       "    </tr>\n",
       "    <tr>\n",
       "      <th>4</th>\n",
       "      <td>2.118522</td>\n",
       "      <td>0.590620</td>\n",
       "      <td>0.898131</td>\n",
       "      <td>-2.118304</td>\n",
       "      <td>-0.666613</td>\n",
       "      <td>1.403083</td>\n",
       "      <td>-0.460536</td>\n",
       "      <td>-0.394525</td>\n",
       "      <td>-0.473358</td>\n",
       "      <td>-0.384797</td>\n",
       "      <td>-0.445250</td>\n",
       "      <td>-0.536601</td>\n",
       "      <td>0.012451</td>\n",
       "    </tr>\n",
       "  </tbody>\n",
       "</table>\n",
       "</div>"
      ],
      "text/plain": [
       "         0         1         2         3         4         5         6   \\\n",
       "0 -1.062323 -0.875372  0.028668  0.244820 -0.666613 -0.712716 -0.460536   \n",
       "1  2.118522  0.361559 -1.710260  0.574193 -0.666613  1.403083  0.598368   \n",
       "2 -1.062323 -0.875372  0.028668  0.265636 -0.666613 -0.712716 -0.248755   \n",
       "3 -1.062323 -0.875372  0.028668  0.228804 -0.666613 -0.712716 -0.389942   \n",
       "4  2.118522  0.590620  0.898131 -2.118304 -0.666613  1.403083 -0.460536   \n",
       "\n",
       "         7         8         9         10        11        12  \n",
       "0 -0.154109 -0.473358 -0.384797 -0.658845 -0.773495  0.012451  \n",
       "1  0.086307 -0.008964 -0.045372  0.100603  0.647867  0.012451  \n",
       "2 -0.154109 -0.473358 -0.384797 -0.468983 -0.477378  0.012451  \n",
       "3 -0.394525 -0.008964 -0.384797 -0.540181 -0.595825  0.012451  \n",
       "4 -0.394525 -0.473358 -0.384797 -0.445250 -0.536601  0.012451  "
      ]
     },
     "execution_count": 27,
     "metadata": {},
     "output_type": "execute_result"
    }
   ],
   "source": [
    "pd.DataFrame(scaled_sample).head()"
   ]
  },
  {
   "cell_type": "code",
   "execution_count": null,
   "metadata": {},
   "outputs": [],
   "source": []
  }
 ],
 "metadata": {
  "kernelspec": {
   "display_name": "Python 3",
   "language": "python",
   "name": "python3"
  },
  "language_info": {
   "codemirror_mode": {
    "name": "ipython",
    "version": 3
   },
   "file_extension": ".py",
   "mimetype": "text/x-python",
   "name": "python",
   "nbconvert_exporter": "python",
   "pygments_lexer": "ipython3",
   "version": "3.7.0"
  }
 },
 "nbformat": 4,
 "nbformat_minor": 2
}
