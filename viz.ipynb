{
 "cells": [
  {
   "cell_type": "code",
   "execution_count": 1,
   "metadata": {},
   "outputs": [],
   "source": [
    "import pandas as pd\n",
    "import time\n",
    "import warnings\n",
    "warnings.filterwarnings('ignore')\n",
    "import random\n",
    "import numpy as np\n",
    "from sklearn.preprocessing import StandardScaler\n",
    "import matplotlib.pyplot as plt\n",
    "from collections import namedtuple, Counter\n",
    "%matplotlib inline"
   ]
  },
  {
   "cell_type": "markdown",
   "metadata": {},
   "source": [
    "## Load 1,000,000 random observations"
   ]
  },
  {
   "cell_type": "code",
   "execution_count": 2,
   "metadata": {},
   "outputs": [
    {
     "data": {
      "text/html": [
       "<div>\n",
       "<style scoped>\n",
       "    .dataframe tbody tr th:only-of-type {\n",
       "        vertical-align: middle;\n",
       "    }\n",
       "\n",
       "    .dataframe tbody tr th {\n",
       "        vertical-align: top;\n",
       "    }\n",
       "\n",
       "    .dataframe thead th {\n",
       "        text-align: right;\n",
       "    }\n",
       "</style>\n",
       "<table border=\"1\" class=\"dataframe\">\n",
       "  <thead>\n",
       "    <tr style=\"text-align: right;\">\n",
       "      <th></th>\n",
       "      <th>msno</th>\n",
       "      <th>city</th>\n",
       "      <th>age</th>\n",
       "      <th>registered_via</th>\n",
       "      <th>registration_init_time</th>\n",
       "      <th>female</th>\n",
       "      <th>male</th>\n",
       "      <th>missing_gender</th>\n",
       "      <th>date</th>\n",
       "      <th>num_25</th>\n",
       "      <th>num_50</th>\n",
       "      <th>num_75</th>\n",
       "      <th>num_985</th>\n",
       "      <th>num_100</th>\n",
       "      <th>num_unq</th>\n",
       "      <th>total_secs</th>\n",
       "    </tr>\n",
       "  </thead>\n",
       "  <tbody>\n",
       "    <tr>\n",
       "      <th>0</th>\n",
       "      <td>2iweMJMgJMgSPdh6As7zuVyS1lx3tkOGzKLIaHWIlsM=</td>\n",
       "      <td>13</td>\n",
       "      <td>21</td>\n",
       "      <td>9</td>\n",
       "      <td>20160607</td>\n",
       "      <td>0</td>\n",
       "      <td>1</td>\n",
       "      <td>0</td>\n",
       "      <td>20160628</td>\n",
       "      <td>0</td>\n",
       "      <td>1</td>\n",
       "      <td>1</td>\n",
       "      <td>1</td>\n",
       "      <td>22</td>\n",
       "      <td>21</td>\n",
       "      <td>5513.532</td>\n",
       "    </tr>\n",
       "    <tr>\n",
       "      <th>1</th>\n",
       "      <td>NdgGGRNTS6A8BiLJsI4ScOGlIBAHE+RAmre6vzCZn74=</td>\n",
       "      <td>10</td>\n",
       "      <td>23</td>\n",
       "      <td>3</td>\n",
       "      <td>20120223</td>\n",
       "      <td>0</td>\n",
       "      <td>1</td>\n",
       "      <td>0</td>\n",
       "      <td>20150206</td>\n",
       "      <td>0</td>\n",
       "      <td>0</td>\n",
       "      <td>0</td>\n",
       "      <td>0</td>\n",
       "      <td>19</td>\n",
       "      <td>19</td>\n",
       "      <td>4604.800</td>\n",
       "    </tr>\n",
       "    <tr>\n",
       "      <th>2</th>\n",
       "      <td>T+zZuCBf91l3fjFmTiJMdke6Hi09EMLvTwAcjA8e7Yw=</td>\n",
       "      <td>15</td>\n",
       "      <td>29</td>\n",
       "      <td>9</td>\n",
       "      <td>20110313</td>\n",
       "      <td>1</td>\n",
       "      <td>0</td>\n",
       "      <td>0</td>\n",
       "      <td>20161206</td>\n",
       "      <td>36</td>\n",
       "      <td>2</td>\n",
       "      <td>2</td>\n",
       "      <td>2</td>\n",
       "      <td>20</td>\n",
       "      <td>33</td>\n",
       "      <td>4548.569</td>\n",
       "    </tr>\n",
       "    <tr>\n",
       "      <th>3</th>\n",
       "      <td>pEZUCm/5Wn8DR7v7esm+4s02ILYjDBX5tOb2+OBTE1Q=</td>\n",
       "      <td>15</td>\n",
       "      <td>28</td>\n",
       "      <td>9</td>\n",
       "      <td>20120830</td>\n",
       "      <td>0</td>\n",
       "      <td>1</td>\n",
       "      <td>0</td>\n",
       "      <td>20161210</td>\n",
       "      <td>4</td>\n",
       "      <td>8</td>\n",
       "      <td>3</td>\n",
       "      <td>2</td>\n",
       "      <td>30</td>\n",
       "      <td>46</td>\n",
       "      <td>8862.526</td>\n",
       "    </tr>\n",
       "    <tr>\n",
       "      <th>4</th>\n",
       "      <td>rvv9L2NXPoJiwO1+9mI38IHM5uY5wvvBLD30yKL0DGc=</td>\n",
       "      <td>12</td>\n",
       "      <td>24</td>\n",
       "      <td>7</td>\n",
       "      <td>20120217</td>\n",
       "      <td>0</td>\n",
       "      <td>1</td>\n",
       "      <td>0</td>\n",
       "      <td>20160701</td>\n",
       "      <td>16</td>\n",
       "      <td>2</td>\n",
       "      <td>2</td>\n",
       "      <td>11</td>\n",
       "      <td>19</td>\n",
       "      <td>45</td>\n",
       "      <td>9333.980</td>\n",
       "    </tr>\n",
       "  </tbody>\n",
       "</table>\n",
       "</div>"
      ],
      "text/plain": [
       "                                           msno  city  age  registered_via  \\\n",
       "0  2iweMJMgJMgSPdh6As7zuVyS1lx3tkOGzKLIaHWIlsM=    13   21               9   \n",
       "1  NdgGGRNTS6A8BiLJsI4ScOGlIBAHE+RAmre6vzCZn74=    10   23               3   \n",
       "2  T+zZuCBf91l3fjFmTiJMdke6Hi09EMLvTwAcjA8e7Yw=    15   29               9   \n",
       "3  pEZUCm/5Wn8DR7v7esm+4s02ILYjDBX5tOb2+OBTE1Q=    15   28               9   \n",
       "4  rvv9L2NXPoJiwO1+9mI38IHM5uY5wvvBLD30yKL0DGc=    12   24               7   \n",
       "\n",
       "   registration_init_time  female  male  missing_gender      date  num_25  \\\n",
       "0                20160607       0     1               0  20160628       0   \n",
       "1                20120223       0     1               0  20150206       0   \n",
       "2                20110313       1     0               0  20161206      36   \n",
       "3                20120830       0     1               0  20161210       4   \n",
       "4                20120217       0     1               0  20160701      16   \n",
       "\n",
       "   num_50  num_75  num_985  num_100  num_unq  total_secs  \n",
       "0       1       1        1       22       21    5513.532  \n",
       "1       0       0        0       19       19    4604.800  \n",
       "2       2       2        2       20       33    4548.569  \n",
       "3       8       3        2       30       46    8862.526  \n",
       "4       2       2       11       19       45    9333.980  "
      ]
     },
     "execution_count": 2,
     "metadata": {},
     "output_type": "execute_result"
    }
   ],
   "source": [
    "# gshuf -n 1000000 user_data.csv > sample.csv\n",
    "col_names = ['holder', 'msno', 'city', 'age', 'registered_via', 'registration_init_time',\n",
    "       'female', 'male', 'missing_gender', 'date', 'num_25', 'num_50',\n",
    "       'num_75', 'num_985', 'num_100', 'num_unq', 'total_secs']\n",
    "user_data = pd.read_csv(\"sample.csv\", header=None, names=col_names)\n",
    "user_data.rename(columns={'Unnamed: 8':'missing_gender'}, inplace=True)\n",
    "user_data = user_data.drop(user_data.columns[0], axis=1)\n",
    "\n",
    "user_data.head()"
   ]
  },
  {
   "cell_type": "code",
   "execution_count": 3,
   "metadata": {},
   "outputs": [
    {
     "data": {
      "text/plain": [
       "Index(['msno', 'is_churn'], dtype='object')"
      ]
     },
     "execution_count": 3,
     "metadata": {},
     "output_type": "execute_result"
    }
   ],
   "source": [
    "train = pd.read_csv(\"big/train.csv\")\n",
    "train.columns"
   ]
  },
  {
   "cell_type": "markdown",
   "metadata": {},
   "source": [
    "## Join on msno"
   ]
  },
  {
   "cell_type": "code",
   "execution_count": 4,
   "metadata": {},
   "outputs": [
    {
     "name": "stdout",
     "output_type": "stream",
     "text": [
      "(629251, 17)\n"
     ]
    },
    {
     "data": {
      "text/html": [
       "<div>\n",
       "<style scoped>\n",
       "    .dataframe tbody tr th:only-of-type {\n",
       "        vertical-align: middle;\n",
       "    }\n",
       "\n",
       "    .dataframe tbody tr th {\n",
       "        vertical-align: top;\n",
       "    }\n",
       "\n",
       "    .dataframe thead th {\n",
       "        text-align: right;\n",
       "    }\n",
       "</style>\n",
       "<table border=\"1\" class=\"dataframe\">\n",
       "  <thead>\n",
       "    <tr style=\"text-align: right;\">\n",
       "      <th></th>\n",
       "      <th>msno</th>\n",
       "      <th>is_churn</th>\n",
       "      <th>city</th>\n",
       "      <th>age</th>\n",
       "      <th>registered_via</th>\n",
       "      <th>registration_init_time</th>\n",
       "      <th>female</th>\n",
       "      <th>male</th>\n",
       "      <th>missing_gender</th>\n",
       "      <th>date</th>\n",
       "      <th>num_25</th>\n",
       "      <th>num_50</th>\n",
       "      <th>num_75</th>\n",
       "      <th>num_985</th>\n",
       "      <th>num_100</th>\n",
       "      <th>num_unq</th>\n",
       "      <th>total_secs</th>\n",
       "    </tr>\n",
       "  </thead>\n",
       "  <tbody>\n",
       "    <tr>\n",
       "      <th>0</th>\n",
       "      <td>fGwBva6hikQmTJzrbz/2Ezjm5Cth5jZUNvXigKK2AFA=</td>\n",
       "      <td>1.0</td>\n",
       "      <td>11</td>\n",
       "      <td>27</td>\n",
       "      <td>9</td>\n",
       "      <td>20051016</td>\n",
       "      <td>1</td>\n",
       "      <td>0</td>\n",
       "      <td>0</td>\n",
       "      <td>20160304</td>\n",
       "      <td>3</td>\n",
       "      <td>2</td>\n",
       "      <td>0</td>\n",
       "      <td>0</td>\n",
       "      <td>9</td>\n",
       "      <td>12</td>\n",
       "      <td>2163.046</td>\n",
       "    </tr>\n",
       "    <tr>\n",
       "      <th>1</th>\n",
       "      <td>fGwBva6hikQmTJzrbz/2Ezjm5Cth5jZUNvXigKK2AFA=</td>\n",
       "      <td>1.0</td>\n",
       "      <td>11</td>\n",
       "      <td>27</td>\n",
       "      <td>9</td>\n",
       "      <td>20051016</td>\n",
       "      <td>1</td>\n",
       "      <td>0</td>\n",
       "      <td>0</td>\n",
       "      <td>20160502</td>\n",
       "      <td>0</td>\n",
       "      <td>1</td>\n",
       "      <td>0</td>\n",
       "      <td>0</td>\n",
       "      <td>39</td>\n",
       "      <td>39</td>\n",
       "      <td>10513.831</td>\n",
       "    </tr>\n",
       "    <tr>\n",
       "      <th>2</th>\n",
       "      <td>mT5V8rEpa+8wuqi6x0DoVd3H5icMKkE9Prt49UlmK+4=</td>\n",
       "      <td>1.0</td>\n",
       "      <td>13</td>\n",
       "      <td>23</td>\n",
       "      <td>9</td>\n",
       "      <td>20051102</td>\n",
       "      <td>1</td>\n",
       "      <td>0</td>\n",
       "      <td>0</td>\n",
       "      <td>20160627</td>\n",
       "      <td>19</td>\n",
       "      <td>3</td>\n",
       "      <td>3</td>\n",
       "      <td>5</td>\n",
       "      <td>34</td>\n",
       "      <td>41</td>\n",
       "      <td>9530.018</td>\n",
       "    </tr>\n",
       "    <tr>\n",
       "      <th>3</th>\n",
       "      <td>mT5V8rEpa+8wuqi6x0DoVd3H5icMKkE9Prt49UlmK+4=</td>\n",
       "      <td>1.0</td>\n",
       "      <td>13</td>\n",
       "      <td>23</td>\n",
       "      <td>9</td>\n",
       "      <td>20051102</td>\n",
       "      <td>1</td>\n",
       "      <td>0</td>\n",
       "      <td>0</td>\n",
       "      <td>20150630</td>\n",
       "      <td>3</td>\n",
       "      <td>1</td>\n",
       "      <td>0</td>\n",
       "      <td>2</td>\n",
       "      <td>18</td>\n",
       "      <td>6</td>\n",
       "      <td>3994.410</td>\n",
       "    </tr>\n",
       "    <tr>\n",
       "      <th>4</th>\n",
       "      <td>XaPhtGLk/5UvvOYHcONTwsnH97P4eGECeq+BARGItRw=</td>\n",
       "      <td>1.0</td>\n",
       "      <td>3</td>\n",
       "      <td>27</td>\n",
       "      <td>9</td>\n",
       "      <td>20051228</td>\n",
       "      <td>0</td>\n",
       "      <td>1</td>\n",
       "      <td>0</td>\n",
       "      <td>20161108</td>\n",
       "      <td>1</td>\n",
       "      <td>1</td>\n",
       "      <td>0</td>\n",
       "      <td>1</td>\n",
       "      <td>167</td>\n",
       "      <td>75</td>\n",
       "      <td>45909.101</td>\n",
       "    </tr>\n",
       "  </tbody>\n",
       "</table>\n",
       "</div>"
      ],
      "text/plain": [
       "                                           msno  is_churn  city  age  \\\n",
       "0  fGwBva6hikQmTJzrbz/2Ezjm5Cth5jZUNvXigKK2AFA=       1.0    11   27   \n",
       "1  fGwBva6hikQmTJzrbz/2Ezjm5Cth5jZUNvXigKK2AFA=       1.0    11   27   \n",
       "2  mT5V8rEpa+8wuqi6x0DoVd3H5icMKkE9Prt49UlmK+4=       1.0    13   23   \n",
       "3  mT5V8rEpa+8wuqi6x0DoVd3H5icMKkE9Prt49UlmK+4=       1.0    13   23   \n",
       "4  XaPhtGLk/5UvvOYHcONTwsnH97P4eGECeq+BARGItRw=       1.0     3   27   \n",
       "\n",
       "   registered_via  registration_init_time  female  male  missing_gender  \\\n",
       "0               9                20051016       1     0               0   \n",
       "1               9                20051016       1     0               0   \n",
       "2               9                20051102       1     0               0   \n",
       "3               9                20051102       1     0               0   \n",
       "4               9                20051228       0     1               0   \n",
       "\n",
       "       date  num_25  num_50  num_75  num_985  num_100  num_unq  total_secs  \n",
       "0  20160304       3       2       0        0        9       12    2163.046  \n",
       "1  20160502       0       1       0        0       39       39   10513.831  \n",
       "2  20160627      19       3       3        5       34       41    9530.018  \n",
       "3  20150630       3       1       0        2       18        6    3994.410  \n",
       "4  20161108       1       1       0        1      167       75   45909.101  "
      ]
     },
     "execution_count": 4,
     "metadata": {},
     "output_type": "execute_result"
    }
   ],
   "source": [
    "user_data = train.merge(user_data, on='msno', how='right')\n",
    "user_data = user_data[pd.notnull(user_data[\"is_churn\"])]\n",
    "\n",
    "print(user_data.shape)\n",
    "user_data.head()"
   ]
  },
  {
   "cell_type": "code",
   "execution_count": null,
   "metadata": {},
   "outputs": [],
   "source": []
  },
  {
   "cell_type": "markdown",
   "metadata": {},
   "source": [
    "## Visualizations"
   ]
  },
  {
   "cell_type": "code",
   "execution_count": 5,
   "metadata": {},
   "outputs": [
    {
     "data": {
      "image/png": "[encoded data removed]",
      "text/plain": [
       "<Figure size 1008x504 with 1 Axes>"
      ]
     },
     "metadata": {},
     "output_type": "display_data"
    }
   ],
   "source": [
    "females = len(user_data[\"female\"].nonzero()[0])\n",
    "males = len(user_data[\"male\"].nonzero()[0])\n",
    "no_gen = len(user_data[\"missing_gender\"].nonzero()[0])\n",
    "\n",
    "fig, ax = plt.subplots(figsize=(14, 7), subplot_kw=dict(aspect=\"equal\"))\n",
    "\n",
    "genders = [\"female\",\n",
    "          \"male\",\n",
    "          \"missing_gender\"]\n",
    "\n",
    "data = [females, males, no_gen]\n",
    "\n",
    "\n",
    "def func(pct, allvals):\n",
    "    absolute = int(pct/100.*np.sum(allvals))\n",
    "    return \"{:.1f}%\".format(pct)\n",
    "\n",
    "\n",
    "wedges, texts, autotexts = ax.pie(data, autopct=lambda pct: func(pct, data),\n",
    "                                  textprops=dict(color=\"w\"))\n",
    "\n",
    "ax.legend(wedges, genders,\n",
    "          title=\"Genders (count: 1 million)\",\n",
    "          loc=\"center left\",\n",
    "          bbox_to_anchor=(1, 0, 0.5, 1), fontsize=12, title_fontsize=12)\n",
    "\n",
    "plt.setp(autotexts, size=20, weight=\"bold\")\n",
    "\n",
    "ax.set_title(\"Gender Distribution\", fontsize=14)\n",
    "\n",
    "plt.show()"
   ]
  },
  {
   "cell_type": "code",
   "execution_count": 6,
   "metadata": {},
   "outputs": [
    {
     "name": "stdout",
     "output_type": "stream",
     "text": [
      "[235188, 281670, 93226, 18741, 426]\n"
     ]
    }
   ],
   "source": [
    "methods = set(user_data[\"registered_via\"])\n",
    "n_groups = len(methods)\n",
    "stds = Counter()\n",
    "stds.update(user_data[\"registered_via\"])\n",
    "print(list(stds.values()))\n",
    "\n",
    "method2churn = {val: 0 for val in list(stds.keys())}\n",
    "\n",
    "for i, row in user_data.iterrows():\n",
    "    churn, method = row[\"is_churn\"], row[\"registered_via\"]\n",
    "    if churn:\n",
    "        method2churn[method] += 1"
   ]
  },
  {
   "cell_type": "code",
   "execution_count": 7,
   "metadata": {},
   "outputs": [
    {
     "data": {
      "text/plain": [
       "[0.1874285824114936,\n",
       " 0.07572158541975063,\n",
       " 0.2687122190948933,\n",
       " 0.3957580771595133,\n",
       " 0.07237953591434924]"
      ]
     },
     "execution_count": 7,
     "metadata": {},
     "output_type": "execute_result"
    }
   ],
   "source": [
    "churn_rate = [list(method2churn.values())[i] / list(stds.values())[i] * 100 for i in range(n_groups)]\n",
    "churn_rate = [rate / sum(churn_rate) for rate in churn_rate]\n",
    "churn_rate"
   ]
  },
  {
   "cell_type": "code",
   "execution_count": 8,
   "metadata": {},
   "outputs": [
    {
     "data": {
      "image/png": "[encoded data removed]",
      "text/plain": [
       "<Figure size 432x288 with 1 Axes>"
      ]
     },
     "metadata": {
      "needs_background": "light"
     },
     "output_type": "display_data"
    }
   ],
   "source": [
    "index = np.arange(len(churn_rate))\n",
    "plt.bar(index, churn_rate, color=['r','g','b','c','y'], alpha=0.6)\n",
    "plt.xlabel('Payment Method', fontsize=10)\n",
    "plt.ylabel('Churn %', fontsize=10)\n",
    "plt.xticks(index, stds.keys(), fontsize=15)\n",
    "plt.title('Payment Method vs Churn % -Normalized')\n",
    "plt.grid(axis='y', alpha=0.3)\n",
    "plt.show()"
   ]
  },
  {
   "cell_type": "code",
   "execution_count": 9,
   "metadata": {},
   "outputs": [
    {
     "name": "stdout",
     "output_type": "stream",
     "text": [
      "[8182, 97712, 4886, 23596, 44599, 18597, 38634, 67115, 5007, 40954, 10521, 231314, 2499, 6129, 7184, 9341, 6776, 4628, 830, 608, 139]\n"
     ]
    }
   ],
   "source": [
    "cities = set(user_data[\"city\"])\n",
    "num_cities = len(cities)\n",
    "city_count = Counter()\n",
    "city_count.update(user_data[\"city\"])\n",
    "print(list(city_count.values()))"
   ]
  },
  {
   "cell_type": "code",
   "execution_count": 10,
   "metadata": {},
   "outputs": [
    {
     "data": {
      "text/plain": [
       "[5.964311904179907,\n",
       " 6.526322253152121,\n",
       " 5.894392140810479,\n",
       " 6.29343956602814,\n",
       " 6.968766115832194,\n",
       " 6.269828466957036,\n",
       " 6.530517161049852,\n",
       " 6.889666989495642,\n",
       " 5.432394647493509,\n",
       " 6.717292572154124,\n",
       " 8.031555935747553,\n",
       " 3.6327243487207865,\n",
       " 5.442176870748299,\n",
       " 6.917931147006037,\n",
       " 6.305679287305123,\n",
       " 6.326945723155979,\n",
       " 7.246162927981111,\n",
       " 8.707865168539326,\n",
       " 5.542168674698795,\n",
       " 8.05921052631579,\n",
       " 4.316546762589928]"
      ]
     },
     "execution_count": 10,
     "metadata": {},
     "output_type": "execute_result"
    }
   ],
   "source": [
    "\n",
    "city2churn = {city: 0 for city in list(city_count.keys())}\n",
    "\n",
    "for i, row in user_data.iterrows():\n",
    "    churn, city = row[\"is_churn\"], row[\"city\"]\n",
    "    if churn:\n",
    "        city2churn[city] += 1\n",
    "        \n",
    "churn_rate = [list(city2churn.values())[i] / list(city_count.values())[i] * 100 for i in range(num_cities)]\n",
    "# churn_rate = [rate / sum(churn_rate) for rate in churn_rate]\n",
    "churn_rate"
   ]
  },
  {
   "cell_type": "code",
   "execution_count": 11,
   "metadata": {},
   "outputs": [
    {
     "data": {
      "image/png": "[encoded data removed]",
      "text/plain": [
       "<Figure size 432x288 with 1 Axes>"
      ]
     },
     "metadata": {
      "needs_background": "light"
     },
     "output_type": "display_data"
    }
   ],
   "source": [
    "index = np.arange(len(churn_rate))\n",
    "plt.bar(index, churn_rate, alpha=0.6)\n",
    "plt.xlabel('Cities', fontsize=10)\n",
    "plt.ylabel('Churn %', fontsize=10)\n",
    "plt.xticks(index, fontsize=7)\n",
    "plt.title('City vs Churn %')\n",
    "plt.grid(axis='y', alpha=0.3)\n",
    "plt.show()"
   ]
  },
  {
   "cell_type": "code",
   "execution_count": null,
   "metadata": {},
   "outputs": [],
   "source": []
  }
 ],
 "metadata": {
  "kernelspec": {
   "display_name": "Python 3",
   "language": "python",
   "name": "python3"
  },
  "language_info": {
   "codemirror_mode": {
    "name": "ipython",
    "version": 3
   },
   "file_extension": ".py",
   "mimetype": "text/x-python",
   "name": "python",
   "nbconvert_exporter": "python",
   "pygments_lexer": "ipython3",
   "version": "3.7.0"
  }
 },
 "nbformat": 4,
 "nbformat_minor": 2
}
